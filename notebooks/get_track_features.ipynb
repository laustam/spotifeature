{
 "cells": [
  {
   "cell_type": "code",
   "execution_count": null,
   "metadata": {},
   "outputs": [],
   "source": [
    "import os\n",
    "import pandas as pd\n",
    "import helpers.spotify_web_api as sp\n",
    "print(sp.get_track_features('1aKXOi3zQJ6VOdhnkFJ2gZ'))\n",
    "\n",
    "DIR_DATA = os.path.join('..', 'data')\n",
    "DIR_PROCESSED = os.path.join(DIR_DATA, 'processed')\n",
    "DIR_RAW = os.path.join(DIR_DATA, 'raw')\n",
    "\n",
    "FILENAME_OUT = 'track_audio_features.csv'\n",
    "PATH_OUT = os.path.join(DIR_RAW, FILENAME_OUT)\n",
    "\n",
    "FILENAME_TRACKLIST = 'unique_track_ids.pkl'\n",
    "PATH_TRACKLIST = os.path.join(DIR_PROCESSED, FILENAME_TRACKLIST)\n",
    "\n",
    "# TODO: colnames"
   ]
  },
  {
   "cell_type": "code",
   "execution_count": null,
   "metadata": {},
   "outputs": [],
   "source": [
    "#TODO: read existing file"
   ]
  },
  {
   "cell_type": "code",
   "execution_count": null,
   "metadata": {},
   "outputs": [],
   "source": [
    "#TODO: create new dataframe"
   ]
  },
  {
   "cell_type": "code",
   "execution_count": null,
   "metadata": {},
   "outputs": [],
   "source": [
    "#TODO: logic for adding data frames together"
   ]
  }
 ],
 "metadata": {
  "kernelspec": {
   "display_name": "Python 3",
   "language": "python",
   "name": "python3"
  },
  "language_info": {
   "codemirror_mode": {
    "name": "ipython",
    "version": 3
   },
   "file_extension": ".py",
   "mimetype": "text/x-python",
   "name": "python",
   "nbconvert_exporter": "python",
   "pygments_lexer": "ipython3",
   "version": "3.11.7"
  }
 },
 "nbformat": 4,
 "nbformat_minor": 2
}
