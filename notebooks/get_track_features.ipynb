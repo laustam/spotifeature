{
 "cells": [
  {
   "cell_type": "markdown",
   "metadata": {},
   "source": [
    "# Spotify audio features collection for given list of track IDs"
   ]
  },
  {
   "cell_type": "markdown",
   "metadata": {},
   "source": [
    "## Import Modules and Set Constants"
   ]
  },
  {
   "cell_type": "code",
   "execution_count": 19,
   "metadata": {},
   "outputs": [],
   "source": [
    "import os\n",
    "import pandas as pd\n",
    "import helpers.spotify_web_api as spotify\n",
    "import pickle\n",
    "\n",
    "DIR_DATA = os.path.join('..', 'data')\n",
    "DIR_PROCESSED = os.path.join(DIR_DATA, 'processed')\n",
    "DIR_RAW = os.path.join(DIR_DATA, 'raw')\n",
    "\n",
    "FILENAME_OUT = 'track_audio_features.csv'\n",
    "PATH_OUT = os.path.join(DIR_RAW, FILENAME_OUT)\n",
    "\n",
    "FILENAME_TRACKLIST = 'unique_track_uris50000.pkl'\n",
    "PATH_TRACKLIST = os.path.join(DIR_PROCESSED, FILENAME_TRACKLIST)\n",
    "\n",
    "AUDIO_FEATURES = ['tempo', 'key', 'mode', 'loudness', 'danceability', 'energy', 'speechiness', 'acousticness', 'instrumentalness', 'liveness', 'valence', 'duration_ms', 'time_signature']\n",
    "COL_INDEX = 'id'\n",
    "COL_NAMES = [COL_INDEX] + AUDIO_FEATURES\n",
    "\n",
    "SIZE_CHUNKS = 100   # max 100\n",
    "TIMEOUT_REQUESTS = 1\n",
    "TIMEOUT_BAD_RESPONSE = 1 * 60\n"
   ]
  },
  {
   "cell_type": "markdown",
   "metadata": {},
   "source": [
    "## Create/Load Table"
   ]
  },
  {
   "cell_type": "markdown",
   "metadata": {},
   "source": [
    "Read existing table:"
   ]
  },
  {
   "cell_type": "code",
   "execution_count": null,
   "metadata": {},
   "outputs": [],
   "source": [
    "df = pd.read_csv(PATH_OUT)\n",
    "df.set_index(COL_INDEX, inplace=True)\n",
    "display(df)"
   ]
  },
  {
   "cell_type": "markdown",
   "metadata": {},
   "source": [
    "Create new table:"
   ]
  },
  {
   "cell_type": "code",
   "execution_count": 2,
   "metadata": {},
   "outputs": [],
   "source": [
    "df = pd.DataFrame(columns=COL_NAMES)\n",
    "df.set_index('id', inplace=True)\n",
    "\n",
    "display(df)"
   ]
  },
  {
   "cell_type": "markdown",
   "metadata": {},
   "source": [
    "## Load Tracklist"
   ]
  },
  {
   "cell_type": "code",
   "execution_count": null,
   "metadata": {},
   "outputs": [],
   "source": [
    "with open(PATH_TRACKLIST, 'rb') as file_tracklist:\n",
    "    track_ids = pickle.load(file_tracklist)\n",
    "\n",
    "print(f'Loaded {len(track_ids)} track IDs!')"
   ]
  },
  {
   "cell_type": "markdown",
   "metadata": {},
   "source": [
    "## Get Audio Features\n",
    "Batch request audio features for the list of track IDs and add responses to the table."
   ]
  },
  {
   "cell_type": "code",
   "execution_count": null,
   "metadata": {},
   "outputs": [],
   "source": [
    "import time\n",
    "import requests\n",
    "\n",
    "i = 38150\n",
    "while (i < len(track_ids)):\n",
    "    try:\n",
    "        track_ids_chunk = track_ids[i:i + SIZE_CHUNKS]\n",
    "        features_chunk = spotify.get_track_features(track_ids_chunk)\n",
    "        print(f'{i:7d} - {i + SIZE_CHUNKS:7d} : {features_chunk}', end='\\r')\n",
    "\n",
    "        for track_features in features_chunk['audio_features']:\n",
    "            if (track_features != None):\n",
    "                track_features_sorted = [track_features[feat] for feat in AUDIO_FEATURES if feat in track_features]\n",
    "                df.loc[track_features['id']] = track_features_sorted\n",
    "\n",
    "        time.sleep(TIMEOUT_REQUESTS)\n",
    "        i += SIZE_CHUNKS\n",
    "    except requests.HTTPError as err:\n",
    "        print(f'HTTP Error at {i}: {err.strerror}', end='\\r')\n",
    "        time.sleep(TIMEOUT_BAD_RESPONSE)\n",
    "\n",
    "display(df)"
   ]
  },
  {
   "cell_type": "markdown",
   "metadata": {},
   "source": [
    "## Save results to File\n",
    "**Warning: overwrites existing file!**"
   ]
  },
  {
   "cell_type": "code",
   "execution_count": 16,
   "metadata": {},
   "outputs": [],
   "source": [
    "df.to_csv(PATH_OUT)"
   ]
  },
  {
   "cell_type": "markdown",
   "metadata": {},
   "source": [
    "## Misc\n"
   ]
  },
  {
   "cell_type": "code",
   "execution_count": null,
   "metadata": {},
   "outputs": [],
   "source": [
    "spotify.get_track_features(['40NRm1ZLvZpUSCUXAGGZ8J', '0PYX7X0wTBT5WvKzNCWtk2'])"
   ]
  },
  {
   "cell_type": "code",
   "execution_count": null,
   "metadata": {},
   "outputs": [],
   "source": [
    "display(df)\n",
    "print(len(df))"
   ]
  },
  {
   "cell_type": "code",
   "execution_count": null,
   "metadata": {},
   "outputs": [],
   "source": [
    "features_batch = spotify.get_track_features(track_ids[:100])"
   ]
  },
  {
   "cell_type": "code",
   "execution_count": null,
   "metadata": {},
   "outputs": [],
   "source": [
    "print(len(track_ids))"
   ]
  }
 ],
 "metadata": {
  "kernelspec": {
   "display_name": "Python 3",
   "language": "python",
   "name": "python3"
  },
  "language_info": {
   "codemirror_mode": {
    "name": "ipython",
    "version": 3
   },
   "file_extension": ".py",
   "mimetype": "text/x-python",
   "name": "python",
   "nbconvert_exporter": "python",
   "pygments_lexer": "ipython3",
   "version": "3.11.7"
  }
 },
 "nbformat": 4,
 "nbformat_minor": 2
}
