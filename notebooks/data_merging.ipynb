{
 "cells": [
  {
   "cell_type": "markdown",
   "metadata": {},
   "source": [
    "## Constants"
   ]
  },
  {
   "cell_type": "code",
   "execution_count": 9,
   "metadata": {},
   "outputs": [],
   "source": [
    "import os\n",
    "\n",
    "file_count = 50   # TODO: change to 1000\n",
    "playlists_per_file = 1000\n",
    "\n",
    "dir_data_raw = os.path.join(\"..\", \"data\", \"raw\")\n",
    "dir_data_processed = os.path.join(\"..\", \"data\", \"processed\")\n",
    "\n",
    "playlist_count = file_count * playlists_per_file"
   ]
  },
  {
   "cell_type": "markdown",
   "metadata": {},
   "source": [
    "Merge the data extracted from the Spotify API (csv file) with that of the Spotify Million Playlist Dataset (pickle file)"
   ]
  },
  {
   "cell_type": "code",
   "execution_count": 10,
   "metadata": {},
   "outputs": [
    {
     "name": "stdout",
     "output_type": "stream",
     "text": [
      "..\\data\\processed\\playlists50000.pkl\n"
     ]
    }
   ],
   "source": [
    "import os\n",
    "import pandas as pd\n",
    "\n",
    "path_audio_features = os.path.join(dir_data_raw, \"tracks\", \"track_audio_features.csv\")\n",
    "audio_features = pd.read_csv(path_audio_features)\n",
    "\n",
    "# display(audio_features)\n"
   ]
  },
  {
   "cell_type": "markdown",
   "metadata": {},
   "source": [
    "Combine extracted and calculated data into a playlist frame"
   ]
  },
  {
   "cell_type": "code",
   "execution_count": 14,
   "metadata": {},
   "outputs": [
    {
     "name": "stdout",
     "output_type": "stream",
     "text": [
      "90s\n"
     ]
    }
   ],
   "source": [
    "import pickle\n",
    "\n",
    "playlist_list_path = os.path.join(dir_data_processed, \"playlists\" + str(playlist_count) + \".pkl\")\n",
    "\n",
    "with open(playlist_list_path, \"rb\") as fin:\n",
    "    playlist_data = pickle.load(fin)\n",
    "\n",
    "for playlist in playlist_data:\n",
    "    print(playlist[\"name\"])\n",
    "    break"
   ]
  },
  {
   "cell_type": "code",
   "execution_count": null,
   "metadata": {},
   "outputs": [],
   "source": [
    "import pickle\n",
    "\n",
    "playlist_list_path = os.path.join(dir_data_processed, \"playlists\" + str(playlist_count) + \".pkl\")\n",
    "\n",
    "with open(playlist_list_path, \"rb\") as fin:\n",
    "    playlist_data = pickle.load(fin)\n",
    "\n",
    "playlist_frame\n",
    "playlist_frame = pd.DataFrame(np.arrange())"
   ]
  }
 ],
 "metadata": {
  "kernelspec": {
   "display_name": "Python 3",
   "language": "python",
   "name": "python3"
  },
  "language_info": {
   "codemirror_mode": {
    "name": "ipython",
    "version": 3
   },
   "file_extension": ".py",
   "mimetype": "text/x-python",
   "name": "python",
   "nbconvert_exporter": "python",
   "pygments_lexer": "ipython3",
   "version": "3.12.1"
  }
 },
 "nbformat": 4,
 "nbformat_minor": 2
}
