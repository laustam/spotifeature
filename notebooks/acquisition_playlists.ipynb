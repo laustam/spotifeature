{
 "cells": [
  {
   "cell_type": "markdown",
   "metadata": {},
   "source": [
    "# Aquisition of Playlist Data + List of Unique Playlist IDs\n",
    "\n",
    "Note: each of the cells can be run individually, as long as the prerequisite pickle files exist in `/data/processed/` directory. Otherwise, waiting for execution of all cells can take a substantial amount of time.\n",
    "\n",
    "## Constants and Imports for the Notebook"
   ]
  },
  {
   "cell_type": "code",
   "execution_count": 1,
   "metadata": {},
   "outputs": [],
   "source": [
    "import os\n",
    "import json\n",
    "import pickle\n",
    "\n",
    "FILE_COUNT = 1000\n",
    "PLAYLISTS_PER_FILE = 1000\n",
    "MIN_FOLLOWER_THRESHOLD = 2\n",
    "\n",
    "DIR_DATA_RAW = os.path.join(\"..\", \"data\", \"raw\")\n",
    "DIR_DATA_PROCESSED = os.path.join(\"..\", \"data\", \"processed\")\n",
    "\n",
    "PLAYLIST_COUNT = FILE_COUNT * PLAYLISTS_PER_FILE\n",
    "\n",
    "PLAYLIST_LIST_PATH = os.path.join(DIR_DATA_PROCESSED, \"playlists\" + str(PLAYLIST_COUNT) + \".pkl\")\n",
    "PLAYLIST_OVERVIEW_PATH = os.path.join(DIR_DATA_PROCESSED, \"playlists_overview\" + str(PLAYLIST_COUNT) + \".pkl\")\n",
    "TRACK_URIS_PATH = os.path.join(DIR_DATA_PROCESSED, \"unique_track_ids\" + str(PLAYLIST_COUNT) + \".pkl\")"
   ]
  },
  {
   "cell_type": "markdown",
   "metadata": {},
   "source": [
    "## Extracting Playlist Data\n",
    "\n",
    "The 1,000,000 spotify playlists are stored in `/data/raw/playlists/` folder, downloaded from [AI Crowd](https://www.aicrowd.com/challenges/spotify-million-playlist-dataset-challenge/dataset_files) (account needed). The playlists are stored in 1000 `.json` files with 1000 playlists each."
   ]
  },
  {
   "cell_type": "markdown",
   "metadata": {},
   "source": [
    "Read all JSON files and merge their playlist information into a single list structure. The Python list is saved into a pickle structure for intermediate representation:"
   ]
  },
  {
   "cell_type": "code",
   "execution_count": 2,
   "metadata": {},
   "outputs": [
    {
     "name": "stdout",
     "output_type": "stream",
     "text": [
      "Files processed: 1000/1000\r"
     ]
    }
   ],
   "source": [
    "playlist_list = []\n",
    "\n",
    "for file_index in range(FILE_COUNT):\n",
    "    start_playlist_id = file_index * PLAYLISTS_PER_FILE\n",
    "    end_playlist_id = (file_index + 1) * PLAYLISTS_PER_FILE - 1\n",
    "    playlist_json_path = os.path.join(\"..\", \"data\", \"raw\", \"playlists\", \"mpd.slice.\" + str(start_playlist_id) + \"-\" + str(end_playlist_id) + \".json\")\n",
    "    \n",
    "    with open(playlist_json_path, 'r') as json_file:\n",
    "        data = json.load(json_file)\n",
    "    \n",
    "    playlist_data = data.get(\"playlists\", [])\n",
    "\n",
    "    for playlist in playlist_data:\n",
    "        if playlist[\"num_followers\"] < MIN_FOLLOWER_THRESHOLD:\n",
    "            continue\n",
    "        \n",
    "        track_id_list = []\n",
    "        for track in playlist[\"tracks\"]:\n",
    "            id = track[\"track_uri\"][len(\"spotify:track:\"):]\n",
    "            track_id_list.append(id)\n",
    "        del playlist[\"duration_ms\"]\n",
    "        del playlist[\"tracks\"]\n",
    "        playlist[\"track_ids\"] = track_id_list\n",
    "\n",
    "        if \"description\" in playlist: # some playlists have a description!\n",
    "            del playlist[\"description\"]\n",
    "\n",
    "        playlist_list.append(playlist)\n",
    "\n",
    "    print(\"Files processed: {}/{}\".format(file_index+1, FILE_COUNT), end=\"\\r\")\n",
    "\n",
    "with open(PLAYLIST_LIST_PATH, \"wb\") as fout:\n",
    "    pickle.dump(playlist_list, fout, protocol = pickle.HIGHEST_PROTOCOL)"
   ]
  },
  {
   "cell_type": "markdown",
   "metadata": {},
   "source": [
    "Generate an overview version of playlists without the track list:"
   ]
  },
  {
   "cell_type": "code",
   "execution_count": null,
   "metadata": {},
   "outputs": [],
   "source": [
    "with open(PLAYLIST_LIST_PATH, \"rb\") as fin:\n",
    "    playlist_data = pickle.load(fin)\n",
    "\n",
    "for playlist in playlist_data:\n",
    "    del playlist[\"track_ids\"]\n",
    "\n",
    "with open(PLAYLIST_OVERVIEW_PATH, \"wb\") as fout:\n",
    "    pickle.dump(playlist_data, fout, protocol = pickle.HIGHEST_PROTOCOL)"
   ]
  },
  {
   "cell_type": "markdown",
   "metadata": {},
   "source": [
    "Generate a list of unique track ids across all playlists:"
   ]
  },
  {
   "cell_type": "code",
   "execution_count": null,
   "metadata": {},
   "outputs": [],
   "source": [
    "with open(PLAYLIST_LIST_PATH, \"rb\") as fin:\n",
    "    playlist_data = pickle.load(fin)\n",
    "\n",
    "track_id_set = set()\n",
    "for playlist in playlist_data:\n",
    "    for id in playlist[\"track_ids\"]:\n",
    "        track_id_set.add(id)\n",
    "\n",
    "track_id_list = list(track_id_set)\n",
    "\n",
    "with open(TRACK_URIS_PATH, \"wb\") as fout:\n",
    "    pickle.dump(track_id_list, fout, protocol = pickle.HIGHEST_PROTOCOL)"
   ]
  }
 ],
 "metadata": {
  "kernelspec": {
   "display_name": "Python 3",
   "language": "python",
   "name": "python3"
  },
  "language_info": {
   "codemirror_mode": {
    "name": "ipython",
    "version": 3
   },
   "file_extension": ".py",
   "mimetype": "text/x-python",
   "name": "python",
   "nbconvert_exporter": "python",
   "pygments_lexer": "ipython3",
   "version": "3.11.7"
  }
 },
 "nbformat": 4,
 "nbformat_minor": 2
}
