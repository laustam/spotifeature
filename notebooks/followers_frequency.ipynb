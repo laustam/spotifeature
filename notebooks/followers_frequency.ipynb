{
 "cells": [
  {
   "cell_type": "markdown",
   "metadata": {},
   "source": [
    "# Understanding Our Data\n",
    "\n",
    "The [dataset](https://www.aicrowd.com/challenges/spotify-million-playlist-dataset-challenge/dataset_files) that we have chosen to use consists of a million different Spotify playlists. In total, the original zip file of this dataset is 5.39 GB large... we are working with a whole lot of data! For this reason, we want to find an appropriate minimum follower threshold that can be used to filter our data. For example, we might want to exclude all playlists with a single follower... how would this effect the total amount of playlists we will be analyzing? How drastic is the change from considering playlists with more than 2 followers verses more than 10 followers? What is a realistic value for a minimum follower threshold that results in a manageable dataset to extract meaningful results?\n",
    "\n",
    "Firstly, let's import any libraries needed for code in this notebook."
   ]
  },
  {
   "cell_type": "code",
   "execution_count": 1,
   "metadata": {},
   "outputs": [
    {
     "name": "stderr",
     "output_type": "stream",
     "text": [
      "/var/folders/b6/ns9gsf2x6lq54_53qrbw8v440000gn/T/ipykernel_21779/885467.py:1: DeprecationWarning: \n",
      "Pyarrow will become a required dependency of pandas in the next major release of pandas (pandas 3.0),\n",
      "(to allow more performant data types, such as the Arrow string type, and better interoperability with other libraries)\n",
      "but was not found to be installed on your system.\n",
      "If this would cause problems for you,\n",
      "please provide us feedback at https://github.com/pandas-dev/pandas/issues/54466\n",
      "        \n",
      "  import pandas as pd\n"
     ]
    }
   ],
   "source": [
    "import pandas as pd\n",
    "import json\n",
    "import matplotlib.pyplot as plt\n",
    "import os\n",
    "import numpy as np\n",
    "import prettytable as pt\n",
    "import sys"
   ]
  },
  {
   "cell_type": "markdown",
   "metadata": {},
   "source": [
    "## What is the frequency of playlists that have 1 follower?\n",
    "\n",
    "Data about different playlists is stored in 1,000 different JSON files. Each JSON files contains data about 100,000 playlists.\n",
    "\n",
    "We create a function that, given the path to a single one of these JSON files, returns a dictionary containing the number of followers and the frequency of playlists with this count. That is, a dictionary `{1:2, 3:4}` signifies that there exist 2 playlists with 1 follower and 4 playlists with 3 followers in the given JSON file."
   ]
  },
  {
   "cell_type": "code",
   "execution_count": 22,
   "metadata": {},
   "outputs": [],
   "source": [
    "def get_frequency_from_json(json_file_path):\n",
    "    frequency = {}\n",
    "\n",
    "    data = json.load(open(json_file_path, 'r'))\n",
    "\n",
    "    if \"playlists\" not in data:\n",
    "        sys.exit(\"❌ The JSON file at {} does not contain playlists!\".format(json_file_path))\n",
    "\n",
    "    playlists = data[\"playlists\"]\n",
    "\n",
    "    for playlist in playlists:\n",
    "        followers = playlist[\"num_followers\"]\n",
    "        frequency[followers] = frequency.get(followers, 0) + 1\n",
    "    return frequency"
   ]
  },
  {
   "cell_type": "markdown",
   "metadata": {},
   "source": [
    "Now, we can use our function to construct a dictionary with information about the frequency of different numbers of followers for all JSON files."
   ]
  },
  {
   "cell_type": "code",
   "execution_count": 25,
   "metadata": {},
   "outputs": [
    {
     "name": "stdout",
     "output_type": "stream",
     "text": [
      "✅ Success! The frequency dictionary now contains the follower frequencies.\n"
     ]
    }
   ],
   "source": [
    "path = os.path.join(\"..\", \"data\", \"spotify_million_playlist_dataset\", \"data\")\n",
    "\n",
    "frequency = {}\n",
    "\n",
    "if not os.path.exists(path):\n",
    "    sys.exit(\"❌ Please double check your file path! The file path should be the parent directory containing all JSON files.\")\n",
    "\n",
    "for filename in os.listdir(path):\n",
    "    if filename.endswith('json'):\n",
    "        for key, value in get_frequency_from_json(os.path.join(path, filename)).items():\n",
    "            frequency[key] = frequency.get(key, 0) + value\n",
    "\n",
    "if not frequency:\n",
    "    sys.exit(\"❌ Please double check your file path! There exist no JSON files in the given directory.\")\n",
    "else:\n",
    "    print(\"✅ Success! The frequency dictionary now contains the follower frequencies.\")"
   ]
  },
  {
   "cell_type": "markdown",
   "metadata": {},
   "source": [
    "Next, we can create a dataframe from our frequency dictionary for a better visualization of our data."
   ]
  },
  {
   "cell_type": "code",
   "execution_count": 27,
   "metadata": {},
   "outputs": [
    {
     "data": {
      "text/html": [
       "<div>\n",
       "<style scoped>\n",
       "    .dataframe tbody tr th:only-of-type {\n",
       "        vertical-align: middle;\n",
       "    }\n",
       "\n",
       "    .dataframe tbody tr th {\n",
       "        vertical-align: top;\n",
       "    }\n",
       "\n",
       "    .dataframe thead th {\n",
       "        text-align: right;\n",
       "    }\n",
       "</style>\n",
       "<table border=\"1\" class=\"dataframe\">\n",
       "  <thead>\n",
       "    <tr style=\"text-align: right;\">\n",
       "      <th>Number of followers</th>\n",
       "      <th>1</th>\n",
       "      <th>2</th>\n",
       "      <th>3</th>\n",
       "      <th>4</th>\n",
       "      <th>5</th>\n",
       "      <th>6</th>\n",
       "      <th>7</th>\n",
       "      <th>8</th>\n",
       "      <th>9</th>\n",
       "      <th>10</th>\n",
       "      <th>...</th>\n",
       "      <th>14812</th>\n",
       "      <th>15123</th>\n",
       "      <th>15842</th>\n",
       "      <th>22102</th>\n",
       "      <th>23500</th>\n",
       "      <th>27830</th>\n",
       "      <th>31539</th>\n",
       "      <th>45942</th>\n",
       "      <th>53519</th>\n",
       "      <th>71643</th>\n",
       "    </tr>\n",
       "  </thead>\n",
       "  <tbody>\n",
       "    <tr>\n",
       "      <th>Frequency</th>\n",
       "      <td>754219</td>\n",
       "      <td>149600</td>\n",
       "      <td>46939</td>\n",
       "      <td>19591</td>\n",
       "      <td>9813</td>\n",
       "      <td>5360</td>\n",
       "      <td>3305</td>\n",
       "      <td>2143</td>\n",
       "      <td>1512</td>\n",
       "      <td>1006</td>\n",
       "      <td>...</td>\n",
       "      <td>1</td>\n",
       "      <td>1</td>\n",
       "      <td>1</td>\n",
       "      <td>1</td>\n",
       "      <td>1</td>\n",
       "      <td>1</td>\n",
       "      <td>1</td>\n",
       "      <td>1</td>\n",
       "      <td>1</td>\n",
       "      <td>1</td>\n",
       "    </tr>\n",
       "  </tbody>\n",
       "</table>\n",
       "<p>1 rows × 620 columns</p>\n",
       "</div>"
      ],
      "text/plain": [
       "Number of followers   1       2      3      4      5      6      7      8      \\\n",
       "Frequency            754219  149600  46939  19591   9813   5360   3305   2143   \n",
       "\n",
       "Number of followers  9      10     ...  14812  15123  15842  22102  23500  \\\n",
       "Frequency             1512   1006  ...      1      1      1      1      1   \n",
       "\n",
       "Number of followers  27830  31539  45942  53519  71643  \n",
       "Frequency                1      1      1      1      1  \n",
       "\n",
       "[1 rows x 620 columns]"
      ]
     },
     "metadata": {},
     "output_type": "display_data"
    }
   ],
   "source": [
    "df = pd.DataFrame(data=list(frequency.items()), columns=[\"Number of followers\", \"Frequency\"])\n",
    "df = df.sort_values(by=\"Number of followers\", ascending=True)\n",
    "df = df.set_index(\"Number of followers\")\n",
    "\n",
    "display(df.T)"
   ]
  },
  {
   "cell_type": "markdown",
   "metadata": {},
   "source": [
    "We can represent the frequency data as a bar plot to observe if there are any clear trends. From the plot below, we observe that there the \"step\" sizes between playlists that have a difference of 1 follower seem to be rather consistent on the lower end of follower counts."
   ]
  },
  {
   "cell_type": "code",
   "execution_count": 28,
   "metadata": {},
   "outputs": [
    {
     "data": {
      "image/png": "[encoded data removed]",
      "text/plain": [
       "<Figure size 640x480 with 1 Axes>"
      ]
     },
     "metadata": {},
     "output_type": "display_data"
    }
   ],
   "source": [
    "plt.bar(list(frequency.keys()), list(frequency.values()), color='blue')\n",
    "plt.yscale('log')\n",
    "plt.xscale('log')\n",
    "plt.xlabel('Number of followers (log)')\n",
    "plt.ylabel('Frequency (log)')\n",
    "plt.show()"
   ]
  },
  {
   "cell_type": "markdown",
   "metadata": {},
   "source": [
    "## How is our data spread out? What if we ignore all playlists with 1 follower?\n",
    "\n",
    "We now see that there are clearly more playlists with a lower number of followers, but how exactly is our frequency data spread out?\n",
    "\n",
    "We can use different descriptive statistics to better understand the spread of our data. For this, we create a function that, given an input of how many minimum followers should be considered, prints a table with an overview of descriptive statistics. This provides a clear way to compare the effects of considering playlists with a minimum of 1 followers versus a minimum of 10 followers."
   ]
  },
  {
   "cell_type": "code",
   "execution_count": 33,
   "metadata": {},
   "outputs": [],
   "source": [
    "dataset = sorted([key for key, value in frequency.items() for _ in range(value)])\n",
    "\n",
    "def data_spread(threshold: int = 1):\n",
    "    subset = [value for value in dataset if value >= threshold]\n",
    "\n",
    "    print(\"Considering all playlists with at least {} follower(s)\".format(threshold))\n",
    "    print(\"Number of playlists considered:\", len(subset))\n",
    "    table = pt.PrettyTable()\n",
    "    table.field_names = [\"Statistic\", \"Value\"]\n",
    "    table.add_row([\"Mean\", np.mean(subset)])\n",
    "    table.add_row([\"Median\", np.median(subset)])\n",
    "    table.add_row([\"Standard deviation\", np.std(subset)])\n",
    "    table.add_row([\"Variance\", np.var(subset)])\n",
    "    table.add_row([\"Quartiles\", [quartile for quartile in np.percentile(subset,[25,50,75,100])]])\n",
    "    print(table, \"\\n\")"
   ]
  },
  {
   "cell_type": "markdown",
   "metadata": {},
   "source": [
    "We use this function to play around with how the minimum follower threshold effects the spread of our data.\n",
    "\n",
    "It doesn't make much sense to include playlists with only 1 follower in our analysis as this implies the playlist's creator is following their own playlist and nobody else. What if we only consider playlists with more than 1 follower? What about 10 followers? How does this effect the spread of our data as well as the amount of data we are working with?"
   ]
  },
  {
   "cell_type": "code",
   "execution_count": 34,
   "metadata": {},
   "outputs": [
    {
     "name": "stdout",
     "output_type": "stream",
     "text": [
      "Considering all playlists with at least 1 follower(s)\n",
      "Number of playlists considered: 1000000\n",
      "+--------------------+--------------------------+\n",
      "|     Statistic      |          Value           |\n",
      "+--------------------+--------------------------+\n",
      "|        Mean        |         2.597746         |\n",
      "|       Median       |           1.0            |\n",
      "| Standard deviation |    128.85108015736415    |\n",
      "|      Variance      |    16602.60085771948     |\n",
      "|     Quartiles      | [1.0, 1.0, 1.0, 71643.0] |\n",
      "+--------------------+--------------------------+ \n",
      "\n",
      "Considering all playlists with at least 2 follower(s)\n",
      "Number of playlists considered: 245781\n",
      "+--------------------+--------------------------+\n",
      "|     Statistic      |          Value           |\n",
      "+--------------------+--------------------------+\n",
      "|        Mean        |    7.500689638336568     |\n",
      "|       Median       |           2.0            |\n",
      "| Standard deviation |    259.8432434976874     |\n",
      "|      Variance      |    67518.51119139846     |\n",
      "|     Quartiles      | [2.0, 2.0, 3.0, 71643.0] |\n",
      "+--------------------+--------------------------+ \n",
      "\n",
      "Considering all playlists with at least 10 follower(s)\n",
      "Number of playlists considered: 7518\n",
      "+--------------------+-----------------------------+\n",
      "|     Statistic      |            Value            |\n",
      "+--------------------+-----------------------------+\n",
      "|        Mean        |      158.29130087789306     |\n",
      "|       Median       |             16.0            |\n",
      "| Standard deviation |      1477.7785041302245     |\n",
      "|      Variance      |      2183829.307269364      |\n",
      "|     Quartiles      | [12.0, 16.0, 33.0, 71643.0] |\n",
      "+--------------------+-----------------------------+ \n",
      "\n"
     ]
    }
   ],
   "source": [
    "data_spread(1)\n",
    "data_spread(2)\n",
    "data_spread(10)"
   ]
  },
  {
   "cell_type": "markdown",
   "metadata": {},
   "source": [
    "Now, it's not very efficient to be comparing how specific changes in the minimum threshold effect our data. Instead, we can create a dataframe that gives us a more complete overview of how changing the threshold of minimum followers affects the spread of our data."
   ]
  },
  {
   "cell_type": "code",
   "execution_count": 35,
   "metadata": {},
   "outputs": [
    {
     "data": {
      "text/html": [
       "<div>\n",
       "<style scoped>\n",
       "    .dataframe tbody tr th:only-of-type {\n",
       "        vertical-align: middle;\n",
       "    }\n",
       "\n",
       "    .dataframe tbody tr th {\n",
       "        vertical-align: top;\n",
       "    }\n",
       "\n",
       "    .dataframe thead th {\n",
       "        text-align: right;\n",
       "    }\n",
       "</style>\n",
       "<table border=\"1\" class=\"dataframe\">\n",
       "  <thead>\n",
       "    <tr style=\"text-align: right;\">\n",
       "      <th></th>\n",
       "      <th>Min followers</th>\n",
       "      <th>Num of playlists</th>\n",
       "      <th>Mean</th>\n",
       "      <th>Median</th>\n",
       "      <th>Stdev</th>\n",
       "      <th>Variance</th>\n",
       "      <th>Quartiles</th>\n",
       "    </tr>\n",
       "  </thead>\n",
       "  <tbody>\n",
       "    <tr>\n",
       "      <th>0</th>\n",
       "      <td>1</td>\n",
       "      <td>1000000</td>\n",
       "      <td>2.597746</td>\n",
       "      <td>1.0</td>\n",
       "      <td>128.851080</td>\n",
       "      <td>1.660260e+04</td>\n",
       "      <td>[1.0, 1.0, 1.0, 71643.0]</td>\n",
       "    </tr>\n",
       "    <tr>\n",
       "      <th>1</th>\n",
       "      <td>2</td>\n",
       "      <td>245781</td>\n",
       "      <td>7.500690</td>\n",
       "      <td>2.0</td>\n",
       "      <td>259.843243</td>\n",
       "      <td>6.751851e+04</td>\n",
       "      <td>[2.0, 2.0, 3.0, 71643.0]</td>\n",
       "    </tr>\n",
       "    <tr>\n",
       "      <th>2</th>\n",
       "      <td>3</td>\n",
       "      <td>96181</td>\n",
       "      <td>16.056466</td>\n",
       "      <td>4.0</td>\n",
       "      <td>415.230768</td>\n",
       "      <td>1.724166e+05</td>\n",
       "      <td>[3.0, 4.0, 5.0, 71643.0]</td>\n",
       "    </tr>\n",
       "    <tr>\n",
       "      <th>3</th>\n",
       "      <td>4</td>\n",
       "      <td>49242</td>\n",
       "      <td>28.502295</td>\n",
       "      <td>5.0</td>\n",
       "      <td>580.044851</td>\n",
       "      <td>3.364520e+05</td>\n",
       "      <td>[4.0, 5.0, 7.0, 71643.0]</td>\n",
       "    </tr>\n",
       "    <tr>\n",
       "      <th>4</th>\n",
       "      <td>5</td>\n",
       "      <td>29651</td>\n",
       "      <td>44.691444</td>\n",
       "      <td>6.0</td>\n",
       "      <td>747.056728</td>\n",
       "      <td>5.580938e+05</td>\n",
       "      <td>[5.0, 6.0, 10.0, 71643.0]</td>\n",
       "    </tr>\n",
       "    <tr>\n",
       "      <th>...</th>\n",
       "      <td>...</td>\n",
       "      <td>...</td>\n",
       "      <td>...</td>\n",
       "      <td>...</td>\n",
       "      <td>...</td>\n",
       "      <td>...</td>\n",
       "      <td>...</td>\n",
       "    </tr>\n",
       "    <tr>\n",
       "      <th>615</th>\n",
       "      <td>27830</td>\n",
       "      <td>5</td>\n",
       "      <td>46094.600000</td>\n",
       "      <td>45942.0</td>\n",
       "      <td>15832.415161</td>\n",
       "      <td>2.506654e+08</td>\n",
       "      <td>[31539.0, 45942.0, 53519.0, 71643.0]</td>\n",
       "    </tr>\n",
       "    <tr>\n",
       "      <th>616</th>\n",
       "      <td>31539</td>\n",
       "      <td>4</td>\n",
       "      <td>50660.750000</td>\n",
       "      <td>49730.5</td>\n",
       "      <td>14459.705501</td>\n",
       "      <td>2.090831e+08</td>\n",
       "      <td>[42341.25, 49730.5, 58050.0, 71643.0]</td>\n",
       "    </tr>\n",
       "    <tr>\n",
       "      <th>617</th>\n",
       "      <td>45942</td>\n",
       "      <td>3</td>\n",
       "      <td>57034.666667</td>\n",
       "      <td>53519.0</td>\n",
       "      <td>10782.865554</td>\n",
       "      <td>1.162702e+08</td>\n",
       "      <td>[49730.5, 53519.0, 62581.0, 71643.0]</td>\n",
       "    </tr>\n",
       "    <tr>\n",
       "      <th>618</th>\n",
       "      <td>53519</td>\n",
       "      <td>2</td>\n",
       "      <td>62581.000000</td>\n",
       "      <td>62581.0</td>\n",
       "      <td>9062.000000</td>\n",
       "      <td>8.211984e+07</td>\n",
       "      <td>[58050.0, 62581.0, 67112.0, 71643.0]</td>\n",
       "    </tr>\n",
       "    <tr>\n",
       "      <th>619</th>\n",
       "      <td>71643</td>\n",
       "      <td>1</td>\n",
       "      <td>71643.000000</td>\n",
       "      <td>71643.0</td>\n",
       "      <td>0.000000</td>\n",
       "      <td>0.000000e+00</td>\n",
       "      <td>[71643.0, 71643.0, 71643.0, 71643.0]</td>\n",
       "    </tr>\n",
       "  </tbody>\n",
       "</table>\n",
       "<p>620 rows × 7 columns</p>\n",
       "</div>"
      ],
      "text/plain": [
       "     Min followers  Num of playlists          Mean   Median         Stdev  \\\n",
       "0                1           1000000      2.597746      1.0    128.851080   \n",
       "1                2            245781      7.500690      2.0    259.843243   \n",
       "2                3             96181     16.056466      4.0    415.230768   \n",
       "3                4             49242     28.502295      5.0    580.044851   \n",
       "4                5             29651     44.691444      6.0    747.056728   \n",
       "..             ...               ...           ...      ...           ...   \n",
       "615          27830                 5  46094.600000  45942.0  15832.415161   \n",
       "616          31539                 4  50660.750000  49730.5  14459.705501   \n",
       "617          45942                 3  57034.666667  53519.0  10782.865554   \n",
       "618          53519                 2  62581.000000  62581.0   9062.000000   \n",
       "619          71643                 1  71643.000000  71643.0      0.000000   \n",
       "\n",
       "         Variance                              Quartiles  \n",
       "0    1.660260e+04               [1.0, 1.0, 1.0, 71643.0]  \n",
       "1    6.751851e+04               [2.0, 2.0, 3.0, 71643.0]  \n",
       "2    1.724166e+05               [3.0, 4.0, 5.0, 71643.0]  \n",
       "3    3.364520e+05               [4.0, 5.0, 7.0, 71643.0]  \n",
       "4    5.580938e+05              [5.0, 6.0, 10.0, 71643.0]  \n",
       "..            ...                                    ...  \n",
       "615  2.506654e+08   [31539.0, 45942.0, 53519.0, 71643.0]  \n",
       "616  2.090831e+08  [42341.25, 49730.5, 58050.0, 71643.0]  \n",
       "617  1.162702e+08   [49730.5, 53519.0, 62581.0, 71643.0]  \n",
       "618  8.211984e+07   [58050.0, 62581.0, 67112.0, 71643.0]  \n",
       "619  0.000000e+00   [71643.0, 71643.0, 71643.0, 71643.0]  \n",
       "\n",
       "[620 rows x 7 columns]"
      ]
     },
     "metadata": {},
     "output_type": "display_data"
    }
   ],
   "source": [
    "spread_df = pd.DataFrame(columns=[\"Min followers\", \"Num of playlists\", \"Mean\", \"Median\", \"Stdev\", \"Variance\", \"Quartiles\"])\n",
    "\n",
    "while dataset:\n",
    "    spread_df.loc[len(spread_df.index)] = [dataset[0], \n",
    "                                           len(dataset), \n",
    "                                           np.mean(dataset), \n",
    "                                           np.median(dataset),\n",
    "                                           np.std(dataset),\n",
    "                                           np.var(dataset),\n",
    "                                           [quartile for quartile in np.percentile(dataset,[25,50,75,100])]]\n",
    "\n",
    "    dataset = [value for value in dataset if value != dataset[0]]\n",
    "\n",
    "display(spread_df)"
   ]
  }
 ],
 "metadata": {
  "kernelspec": {
   "display_name": "Python 3",
   "language": "python",
   "name": "python3"
  },
  "language_info": {
   "codemirror_mode": {
    "name": "ipython",
    "version": 3
   },
   "file_extension": ".py",
   "mimetype": "text/x-python",
   "name": "python",
   "nbconvert_exporter": "python",
   "pygments_lexer": "ipython3",
   "version": "3.11.7"
  }
 },
 "nbformat": 4,
 "nbformat_minor": 2
}
