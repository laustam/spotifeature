{
 "cells": [
  {
   "cell_type": "markdown",
   "metadata": {},
   "source": [
    "# Understanding Our Data\n",
    "\n",
    "The [dataset](https://www.aicrowd.com/challenges/spotify-million-playlist-dataset-challenge/dataset_files) that we have chosen to use consists of a million different Spotify playlists. In total, the original zip file of this dataset is 5.39 GB large... we are working with a whole lot of data! For this reason, we want to find an appropriate minimum follower threshold that can be used to filter our data. For example, we might want to exclude all playlists with a single follower... how would this effect the total amount of playlists we will be analyzing? How drastic is the change from considering playlists with more than 2 followers verses more than 10 followers? What is a realistic value for a minimum follower threshold that results in a manageable dataset to extract meaningful results?\n",
    "\n",
    "Firstly, let's import any libraries needed for code in this notebook."
   ]
  },
  {
   "cell_type": "code",
   "execution_count": 10,
   "metadata": {},
   "outputs": [],
   "source": [
    "import pandas as pd\n",
    "import json\n",
    "import matplotlib.pyplot as plt\n",
    "import os\n",
    "import numpy as np\n",
    "import prettytable as pt"
   ]
  },
  {
   "cell_type": "markdown",
   "metadata": {},
   "source": [
    "## What is the frequency of playlists that have 1 follower?\n",
    "\n",
    "Data about different playlists is stored in 1,000 different JSON files. Each JSON files contains data about 100,000 playlists.\n",
    "\n",
    "We create a function that, given the path to a single one of these JSON files, returns a dictionary containing the number of followers and the frequency of playlists with this count. That is, a dictionary `{1:2, 3:4}` signifies that there exist 2 playlists with 1 follower and 4 playlists with 3 followers in the given JSON file."
   ]
  },
  {
   "cell_type": "code",
   "execution_count": 11,
   "metadata": {},
   "outputs": [],
   "source": [
    "def get_frequency_from_json(json_file_path):\n",
    "    frequency = {}\n",
    "\n",
    "    data = json.load(open(json_file_path, 'r'))\n",
    "    playlists = data[\"playlists\"]\n",
    "\n",
    "    for playlist in playlists:\n",
    "        followers = playlist[\"num_followers\"]\n",
    "        frequency[followers] = frequency.get(followers, 0) + 1\n",
    "    return frequency"
   ]
  },
  {
   "cell_type": "markdown",
   "metadata": {},
   "source": [
    "Now, we can use our function to construct a dictionary with information about the frequency of different numbers of followers for all JSON files."
   ]
  },
  {
   "cell_type": "code",
   "execution_count": 12,
   "metadata": {},
   "outputs": [],
   "source": [
    "path = os.path.join(\"..\", \"data\", \"raw\")\n",
    "\n",
    "frequency = {}\n",
    "\n",
    "for filename in os.listdir(path):\n",
    "    if filename.endswith('json'):\n",
    "        for key, value in get_frequency_from_json(os.path.join(path, filename)).items():\n",
    "            frequency[key] = frequency.get(key, 0) + value"
   ]
  },
  {
   "cell_type": "markdown",
   "metadata": {},
   "source": [
    "Next, we can create a dataframe from our frequency dictionary for a better visualization of our data."
   ]
  },
  {
   "cell_type": "code",
   "execution_count": 13,
   "metadata": {},
   "outputs": [
    {
     "data": {
      "text/html": [
       "<div>\n",
       "<style scoped>\n",
       "    .dataframe tbody tr th:only-of-type {\n",
       "        vertical-align: middle;\n",
       "    }\n",
       "\n",
       "    .dataframe tbody tr th {\n",
       "        vertical-align: top;\n",
       "    }\n",
       "\n",
       "    .dataframe thead th {\n",
       "        text-align: right;\n",
       "    }\n",
       "</style>\n",
       "<table border=\"1\" class=\"dataframe\">\n",
       "  <thead>\n",
       "    <tr style=\"text-align: right;\">\n",
       "      <th>Number of followers</th>\n",
       "      <th>1</th>\n",
       "      <th>2</th>\n",
       "      <th>3</th>\n",
       "      <th>4</th>\n",
       "      <th>5</th>\n",
       "      <th>6</th>\n",
       "      <th>7</th>\n",
       "      <th>8</th>\n",
       "      <th>9</th>\n",
       "      <th>10</th>\n",
       "      <th>...</th>\n",
       "      <th>758</th>\n",
       "      <th>914</th>\n",
       "      <th>1038</th>\n",
       "      <th>1041</th>\n",
       "      <th>1559</th>\n",
       "      <th>2699</th>\n",
       "      <th>2994</th>\n",
       "      <th>6568</th>\n",
       "      <th>14812</th>\n",
       "      <th>15842</th>\n",
       "    </tr>\n",
       "  </thead>\n",
       "  <tbody>\n",
       "    <tr>\n",
       "      <th>Frequency</th>\n",
       "      <td>37696</td>\n",
       "      <td>7416</td>\n",
       "      <td>2409</td>\n",
       "      <td>1039</td>\n",
       "      <td>492</td>\n",
       "      <td>282</td>\n",
       "      <td>153</td>\n",
       "      <td>110</td>\n",
       "      <td>71</td>\n",
       "      <td>47</td>\n",
       "      <td>...</td>\n",
       "      <td>1</td>\n",
       "      <td>1</td>\n",
       "      <td>1</td>\n",
       "      <td>1</td>\n",
       "      <td>1</td>\n",
       "      <td>1</td>\n",
       "      <td>1</td>\n",
       "      <td>1</td>\n",
       "      <td>1</td>\n",
       "      <td>1</td>\n",
       "    </tr>\n",
       "  </tbody>\n",
       "</table>\n",
       "<p>1 rows × 98 columns</p>\n",
       "</div>"
      ],
      "text/plain": [
       "Number of followers  1      2      3      4      5      6      7      8      \\\n",
       "Frequency            37696   7416   2409   1039    492    282    153    110   \n",
       "\n",
       "Number of followers  9      10     ...  758    914    1038   1041   1559   \\\n",
       "Frequency               71     47  ...      1      1      1      1      1   \n",
       "\n",
       "Number of followers  2699   2994   6568   14812  15842  \n",
       "Frequency                1      1      1      1      1  \n",
       "\n",
       "[1 rows x 98 columns]"
      ]
     },
     "metadata": {},
     "output_type": "display_data"
    }
   ],
   "source": [
    "df = pd.DataFrame(data=list(frequency.items()), columns=[\"Number of followers\", \"Frequency\"])\n",
    "df = df.sort_values(by=\"Number of followers\", ascending=True)\n",
    "df = df.set_index(\"Number of followers\")\n",
    "\n",
    "display(df.T)"
   ]
  },
  {
   "cell_type": "markdown",
   "metadata": {},
   "source": [
    "We can represent the frequency data as a bar plot to observe if there are any clear trends. From the plot below, we observe that there the \"step\" sizes between playlists that have a difference of 1 follower seem to be rather consistent on the lower end of follower counts."
   ]
  },
  {
   "cell_type": "code",
   "execution_count": 14,
   "metadata": {},
   "outputs": [
    {
     "data": {
      "image/png": "[encoded data removed]",
      "text/plain": [
       "<Figure size 640x480 with 1 Axes>"
      ]
     },
     "metadata": {},
     "output_type": "display_data"
    }
   ],
   "source": [
    "plt.bar(list(frequency.keys()), list(frequency.values()), color='blue')\n",
    "plt.yscale('log')\n",
    "plt.xscale('log')\n",
    "plt.xlabel('Number of followers (log)')\n",
    "plt.ylabel('Frequency (log)')\n",
    "plt.show()"
   ]
  },
  {
   "cell_type": "markdown",
   "metadata": {},
   "source": [
    "## How is our data spread out? What if we ignore all playlists with 1 follower?\n",
    "\n",
    "We now see that there are clearly more playlists with a lower number of followers, but how exactly is our frequency data spread out?\n",
    "\n",
    "We can use different descriptive statistics to better understand the spread of our data. For this, we create a function that, given an input of how many minimum followers should be considered, prints a table with an overview of descriptive statistics. This provides a clear way to compare the effects of considering playlists with a minimum of 1 followers versus a minimum of 10 followers."
   ]
  },
  {
   "cell_type": "code",
   "execution_count": 19,
   "metadata": {},
   "outputs": [],
   "source": [
    "dataset = sorted([key for key, value in frequency.items() for _ in range(value)])\n",
    "\n",
    "def data_spread(threshold: int = 1):\n",
    "    subset = [value for value in dataset if value >= threshold]\n",
    "\n",
    "    print(\"Considering all playlists with at least {} follower(s)\".format(threshold))\n",
    "    print(\"Number of playlists considered:\", len(subset))\n",
    "    table = pt.PrettyTable()\n",
    "    table.field_names = [\"Statistic\", \"Value\"]\n",
    "    table.add_row([\"Mean\", np.mean(subset)])\n",
    "    table.add_row([\"Median\", np.median(subset)])\n",
    "    table.add_row([\"Standard deviation\", np.std(subset)])\n",
    "    table.add_row([\"Variance\", np.var(subset)])\n",
    "    table.add_row([\"Quartiles\", [quartile for quartile in np.percentile(subset,[25,50,75])]])\n",
    "    print(table, \"\\n\")"
   ]
  },
  {
   "cell_type": "markdown",
   "metadata": {},
   "source": [
    "We use this function to play around with how the minimum follower threshold effects the spread of our data.\n",
    "\n",
    "It doesn't make much sense to include playlists with only 1 follower in our analysis as this implies the playlist's creator is following their own playlist and nobody else. What if we only consider playlists with more than 1 follower? What about 10 followers? How does this effect the spread of our data as well as the amount of data we are working with?"
   ]
  },
  {
   "cell_type": "code",
   "execution_count": 20,
   "metadata": {},
   "outputs": [
    {
     "name": "stdout",
     "output_type": "stream",
     "text": [
      "Considering all playlists with at least 1 follower(s)\n",
      "Number of playlists considered: 50000\n",
      "+--------------------+--------------------+\n",
      "|     Statistic      |       Value        |\n",
      "+--------------------+--------------------+\n",
      "|        Mean        |      2.62358       |\n",
      "|       Median       |        1.0         |\n",
      "| Standard deviation | 103.6822222369081  |\n",
      "|      Variance      | 10750.003207983602 |\n",
      "|     Quartiles      |  [1.0, 1.0, 1.0]   |\n",
      "+--------------------+--------------------+ \n",
      "\n",
      "Considering all playlists with at least 2 follower(s)\n",
      "Number of playlists considered: 12304\n",
      "+--------------------+--------------------+\n",
      "|     Statistic      |       Value        |\n",
      "+--------------------+--------------------+\n",
      "|        Mean        | 7.5977730819245775 |\n",
      "|       Median       |        2.0         |\n",
      "| Standard deviation | 208.93102912988368 |\n",
      "|      Variance      | 43652.174933272305 |\n",
      "|     Quartiles      |  [2.0, 2.0, 3.0]   |\n",
      "+--------------------+--------------------+ \n",
      "\n",
      "Considering all playlists with at least 10 follower(s)\n",
      "Number of playlists considered: 332\n",
      "+--------------------+---------------------+\n",
      "|     Statistic      |        Value        |\n",
      "+--------------------+---------------------+\n",
      "|        Mean        |  182.30722891566265 |\n",
      "|       Median       |         16.0        |\n",
      "| Standard deviation |  1259.4959627998767 |\n",
      "|      Variance      |  1586330.0803091885 |\n",
      "|     Quartiles      | [12.0, 16.0, 36.25] |\n",
      "+--------------------+---------------------+ \n",
      "\n"
     ]
    }
   ],
   "source": [
    "data_spread(1)\n",
    "data_spread(2)\n",
    "data_spread(10)"
   ]
  },
  {
   "cell_type": "markdown",
   "metadata": {},
   "source": [
    "Now, it's not very efficient to be comparing how specific changes in the minimum threshold effect our data. Instead, we can create a dataframe that gives us a more complete overview of how changing the threshold of minimum followers affects the spread of our data."
   ]
  },
  {
   "cell_type": "code",
   "execution_count": 21,
   "metadata": {},
   "outputs": [
    {
     "data": {
      "text/html": [
       "<div>\n",
       "<style scoped>\n",
       "    .dataframe tbody tr th:only-of-type {\n",
       "        vertical-align: middle;\n",
       "    }\n",
       "\n",
       "    .dataframe tbody tr th {\n",
       "        vertical-align: top;\n",
       "    }\n",
       "\n",
       "    .dataframe thead th {\n",
       "        text-align: right;\n",
       "    }\n",
       "</style>\n",
       "<table border=\"1\" class=\"dataframe\">\n",
       "  <thead>\n",
       "    <tr style=\"text-align: right;\">\n",
       "      <th></th>\n",
       "      <th>Min followers</th>\n",
       "      <th>Num of playlists</th>\n",
       "      <th>Mean</th>\n",
       "      <th>Median</th>\n",
       "      <th>Stdev</th>\n",
       "      <th>Variance</th>\n",
       "      <th>Quartiles</th>\n",
       "    </tr>\n",
       "  </thead>\n",
       "  <tbody>\n",
       "    <tr>\n",
       "      <th>0</th>\n",
       "      <td>1</td>\n",
       "      <td>50000</td>\n",
       "      <td>2.623580</td>\n",
       "      <td>1.0</td>\n",
       "      <td>103.682222</td>\n",
       "      <td>1.075000e+04</td>\n",
       "      <td>[1.0, 1.0, 1.0]</td>\n",
       "    </tr>\n",
       "    <tr>\n",
       "      <th>1</th>\n",
       "      <td>2</td>\n",
       "      <td>12304</td>\n",
       "      <td>7.597773</td>\n",
       "      <td>2.0</td>\n",
       "      <td>208.931029</td>\n",
       "      <td>4.365217e+04</td>\n",
       "      <td>[2.0, 2.0, 3.0]</td>\n",
       "    </tr>\n",
       "    <tr>\n",
       "      <th>2</th>\n",
       "      <td>3</td>\n",
       "      <td>4888</td>\n",
       "      <td>16.090630</td>\n",
       "      <td>4.0</td>\n",
       "      <td>331.301868</td>\n",
       "      <td>1.097609e+05</td>\n",
       "      <td>[3.0, 4.0, 5.0]</td>\n",
       "    </tr>\n",
       "    <tr>\n",
       "      <th>3</th>\n",
       "      <td>4</td>\n",
       "      <td>2479</td>\n",
       "      <td>28.811618</td>\n",
       "      <td>5.0</td>\n",
       "      <td>464.859297</td>\n",
       "      <td>2.160942e+05</td>\n",
       "      <td>[4.0, 5.0, 7.0]</td>\n",
       "    </tr>\n",
       "    <tr>\n",
       "      <th>4</th>\n",
       "      <td>5</td>\n",
       "      <td>1440</td>\n",
       "      <td>46.713889</td>\n",
       "      <td>6.0</td>\n",
       "      <td>609.300774</td>\n",
       "      <td>3.712474e+05</td>\n",
       "      <td>[5.0, 6.0, 9.0]</td>\n",
       "    </tr>\n",
       "    <tr>\n",
       "      <th>...</th>\n",
       "      <td>...</td>\n",
       "      <td>...</td>\n",
       "      <td>...</td>\n",
       "      <td>...</td>\n",
       "      <td>...</td>\n",
       "      <td>...</td>\n",
       "      <td>...</td>\n",
       "    </tr>\n",
       "    <tr>\n",
       "      <th>93</th>\n",
       "      <td>2699</td>\n",
       "      <td>5</td>\n",
       "      <td>8583.000000</td>\n",
       "      <td>6568.0</td>\n",
       "      <td>5681.762473</td>\n",
       "      <td>3.228242e+07</td>\n",
       "      <td>[2994.0, 6568.0, 14812.0]</td>\n",
       "    </tr>\n",
       "    <tr>\n",
       "      <th>94</th>\n",
       "      <td>2994</td>\n",
       "      <td>4</td>\n",
       "      <td>10054.000000</td>\n",
       "      <td>10690.0</td>\n",
       "      <td>5434.503289</td>\n",
       "      <td>2.953383e+07</td>\n",
       "      <td>[5674.5, 10690.0, 15069.5]</td>\n",
       "    </tr>\n",
       "    <tr>\n",
       "      <th>95</th>\n",
       "      <td>6568</td>\n",
       "      <td>3</td>\n",
       "      <td>12407.333333</td>\n",
       "      <td>14812.0</td>\n",
       "      <td>4150.388362</td>\n",
       "      <td>1.722572e+07</td>\n",
       "      <td>[10690.0, 14812.0, 15327.0]</td>\n",
       "    </tr>\n",
       "    <tr>\n",
       "      <th>96</th>\n",
       "      <td>14812</td>\n",
       "      <td>2</td>\n",
       "      <td>15327.000000</td>\n",
       "      <td>15327.0</td>\n",
       "      <td>515.000000</td>\n",
       "      <td>2.652250e+05</td>\n",
       "      <td>[15069.5, 15327.0, 15584.5]</td>\n",
       "    </tr>\n",
       "    <tr>\n",
       "      <th>97</th>\n",
       "      <td>15842</td>\n",
       "      <td>1</td>\n",
       "      <td>15842.000000</td>\n",
       "      <td>15842.0</td>\n",
       "      <td>0.000000</td>\n",
       "      <td>0.000000e+00</td>\n",
       "      <td>[15842.0, 15842.0, 15842.0]</td>\n",
       "    </tr>\n",
       "  </tbody>\n",
       "</table>\n",
       "<p>98 rows × 7 columns</p>\n",
       "</div>"
      ],
      "text/plain": [
       "    Min followers  Num of playlists          Mean   Median        Stdev  \\\n",
       "0               1             50000      2.623580      1.0   103.682222   \n",
       "1               2             12304      7.597773      2.0   208.931029   \n",
       "2               3              4888     16.090630      4.0   331.301868   \n",
       "3               4              2479     28.811618      5.0   464.859297   \n",
       "4               5              1440     46.713889      6.0   609.300774   \n",
       "..            ...               ...           ...      ...          ...   \n",
       "93           2699                 5   8583.000000   6568.0  5681.762473   \n",
       "94           2994                 4  10054.000000  10690.0  5434.503289   \n",
       "95           6568                 3  12407.333333  14812.0  4150.388362   \n",
       "96          14812                 2  15327.000000  15327.0   515.000000   \n",
       "97          15842                 1  15842.000000  15842.0     0.000000   \n",
       "\n",
       "        Variance                    Quartiles  \n",
       "0   1.075000e+04              [1.0, 1.0, 1.0]  \n",
       "1   4.365217e+04              [2.0, 2.0, 3.0]  \n",
       "2   1.097609e+05              [3.0, 4.0, 5.0]  \n",
       "3   2.160942e+05              [4.0, 5.0, 7.0]  \n",
       "4   3.712474e+05              [5.0, 6.0, 9.0]  \n",
       "..           ...                          ...  \n",
       "93  3.228242e+07    [2994.0, 6568.0, 14812.0]  \n",
       "94  2.953383e+07   [5674.5, 10690.0, 15069.5]  \n",
       "95  1.722572e+07  [10690.0, 14812.0, 15327.0]  \n",
       "96  2.652250e+05  [15069.5, 15327.0, 15584.5]  \n",
       "97  0.000000e+00  [15842.0, 15842.0, 15842.0]  \n",
       "\n",
       "[98 rows x 7 columns]"
      ]
     },
     "metadata": {},
     "output_type": "display_data"
    }
   ],
   "source": [
    "spread_df = pd.DataFrame(columns=[\"Min followers\", \"Num of playlists\", \"Mean\", \"Median\", \"Stdev\", \"Variance\", \"Quartiles\"])\n",
    "\n",
    "while dataset:\n",
    "    spread_df.loc[len(spread_df.index)] = [dataset[0], \n",
    "                                           len(dataset), \n",
    "                                           np.mean(dataset), \n",
    "                                           np.median(dataset),\n",
    "                                           np.std(dataset),\n",
    "                                           np.var(dataset),\n",
    "                                           [quartile for quartile in np.percentile(dataset,[25,50,75])]]\n",
    "\n",
    "    dataset = [value for value in dataset if value != dataset[0]]\n",
    "\n",
    "display(spread_df)"
   ]
  }
 ],
 "metadata": {
  "kernelspec": {
   "display_name": "Python 3",
   "language": "python",
   "name": "python3"
  },
  "language_info": {
   "codemirror_mode": {
    "name": "ipython",
    "version": 3
   },
   "file_extension": ".py",
   "mimetype": "text/x-python",
   "name": "python",
   "nbconvert_exporter": "python",
   "pygments_lexer": "ipython3",
   "version": "3.11.7"
  }
 },
 "nbformat": 4,
 "nbformat_minor": 2
}
