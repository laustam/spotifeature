{
 "cells": [
  {
   "cell_type": "markdown",
   "metadata": {},
   "source": [
    "Note: each of the cells can be run individually, as long as the prerequisite pickle files exist in `/data/processed/` directory. Otherwise, waiting for execution of all cells can take a substantial amount of time.\n",
    "\n",
    "## Constants for the Notebook"
   ]
  },
  {
   "cell_type": "code",
   "execution_count": null,
   "metadata": {},
   "outputs": [],
   "source": [
    "import os\n",
    "\n",
    "file_count = 50   # TODO: change to 1000\n",
    "playlists_per_file = 1000\n",
    "min_follower_threshold = 2\n",
    "\n",
    "dir_data_raw = os.path.join(\"..\", \"data\", \"raw\")\n",
    "dir_data_processed = os.path.join(\"..\", \"data\", \"processed\")\n",
    "\n",
    "playlist_count = file_count * playlists_per_file"
   ]
  },
  {
   "cell_type": "markdown",
   "metadata": {},
   "source": [
    "## Extracting Playlist Data\n",
    "\n",
    "The 1 000 000 spotify albums are stored in `/data/raw/playlists/` folder, downloaded from [this source](https://www.aicrowd.com/challenges/spotify-million-playlist-dataset-challenge/dataset_files). The albums are stored in 1000 `.json` files with 1000 playlists each."
   ]
  },
  {
   "cell_type": "markdown",
   "metadata": {},
   "source": [
    "Read all JSON files and merge their playlist information into a single list structure. The Python list is saved into a pickle structure for intermediate representation:"
   ]
  },
  {
   "cell_type": "code",
   "execution_count": 88,
   "metadata": {},
   "outputs": [],
   "source": [
    "import json\n",
    "import pickle\n",
    "import os\n",
    "\n",
    "playlist_list_path = os.path.join(dir_data_processed, \"playlists\" + str(playlist_count) + \".pkl\")\n",
    "\n",
    "playlist_list = []\n",
    "\n",
    "for file_index in range(file_count):\n",
    "    start_playlist_id = file_index * playlists_per_file\n",
    "    end_playlist_id = (file_index + 1) * playlists_per_file - 1\n",
    "    playlist_json_path = os.path.join(\"..\", \"data\", \"raw\", \"playlists\", \"mpd.slice.\" + str(start_playlist_id) + \"-\" + str(end_playlist_id) + \".json\")\n",
    "    \n",
    "    with open(playlist_json_path, 'r') as json_file:\n",
    "        data = json.load(json_file)\n",
    "    \n",
    "    playlist_data = data.get(\"playlists\", [])\n",
    "\n",
    "    for playlist in playlist_data:\n",
    "        if playlist[\"num_followers\"] < min_follower_threshold:\n",
    "            continue\n",
    "        \n",
    "        track_id_list = []\n",
    "        for track in playlist[\"tracks\"]:\n",
    "            id = track[\"track_uri\"][len(\"spotify:track:\"):]\n",
    "            track_id_list.append(id)\n",
    "        del playlist[\"duration_ms\"]\n",
    "        del playlist[\"tracks\"]\n",
    "        playlist[\"track_ids\"] = track_id_list\n",
    "\n",
    "        playlist_list.append(playlist)\n",
    "\n",
    "assert playlist_list[3]['name'] == \"mixtape\"\n",
    "\n",
    "with open(playlist_list_path, \"wb\") as fout:\n",
    "    pickle.dump(playlist_list, fout, protocol = pickle.HIGHEST_PROTOCOL)\n"
   ]
  },
  {
   "cell_type": "markdown",
   "metadata": {},
   "source": [
    "Generate an overview version of playlists without the track list:"
   ]
  },
  {
   "cell_type": "code",
   "execution_count": 89,
   "metadata": {},
   "outputs": [],
   "source": [
    "import pickle\n",
    "import os\n",
    "\n",
    "playlist_list_path = os.path.join(dir_data_processed, \"playlists\" + str(playlist_count) + \".pkl\")\n",
    "playlist_overview_path = os.path.join(dir_data_processed, \"playlists_overview\" + str(playlist_count) + \".pkl\")\n",
    "\n",
    "with open(playlist_list_path, \"rb\") as fin:\n",
    "    playlist_data = pickle.load(fin)\n",
    "\n",
    "for playlist in playlist_data:\n",
    "    del playlist[\"track_ids\"]\n",
    "\n",
    "with open(playlist_overview_path, \"wb\") as fout:\n",
    "    pickle.dump(playlist_data, fout, protocol = pickle.HIGHEST_PROTOCOL)"
   ]
  },
  {
   "cell_type": "markdown",
   "metadata": {},
   "source": [
    "Generate a list of unique track ids accross all playlists:"
   ]
  },
  {
   "cell_type": "code",
   "execution_count": 90,
   "metadata": {},
   "outputs": [],
   "source": [
    "import pickle\n",
    "import os\n",
    "\n",
    "playlist_list_path = os.path.join(dir_data_processed, \"playlists\" + str(playlist_count) + \".pkl\")\n",
    "track_uris_path = os.path.join(dir_data_processed, \"unique_track_ids\" + str(playlist_count) + \".pkl\")\n",
    "\n",
    "with open(playlist_list_path, \"rb\") as fin:\n",
    "    playlist_data = pickle.load(fin)\n",
    "\n",
    "track_id_set = set()\n",
    "for playlist in playlist_data:\n",
    "    for id in playlist[\"track_ids\"]:\n",
    "        track_id_set.add(id)\n",
    "\n",
    "assert \"6I9VzXrHxO9rA9A5euc8Ak\" in track_id_set\n",
    "\n",
    "track_id_list = list(track_id_set)\n",
    "\n",
    "with open(track_uris_path, \"wb\") as fout:\n",
    "    pickle.dump(track_id_list, fout, protocol = pickle.HIGHEST_PROTOCOL)"
   ]
  }
 ],
 "metadata": {
  "kernelspec": {
   "display_name": "Python 3",
   "language": "python",
   "name": "python3"
  },
  "language_info": {
   "codemirror_mode": {
    "name": "ipython",
    "version": 3
   },
   "file_extension": ".py",
   "mimetype": "text/x-python",
   "name": "python",
   "nbconvert_exporter": "python",
   "pygments_lexer": "ipython3",
   "version": "3.12.1"
  }
 },
 "nbformat": 4,
 "nbformat_minor": 2
}
