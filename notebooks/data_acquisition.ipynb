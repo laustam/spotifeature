{
 "cells": [
  {
   "cell_type": "markdown",
   "metadata": {},
   "source": [
    "Note: each of the cells can be run individually, as long as the prerequisite pickle files exist in `/data/processed/` directory. Otherwise, waiting for execution of all cells can take a substantial amount of time.\n",
    "\n",
    "## Constants for the Notebook"
   ]
  },
  {
   "cell_type": "code",
   "execution_count": 73,
   "metadata": {},
   "outputs": [],
   "source": [
    "import os\n",
    "\n",
    "file_count = 50   # TODO: change to 1000\n",
    "playlists_per_file = 1000\n",
    "\n",
    "dir_data_raw = os.path.join(\"..\", \"data\", \"processed\")\n",
    "dir_data_processed = os.path.join(\"..\", \"data\", \"raw\")\n",
    "\n",
    "playlist_count = file_count * playlists_per_file"
   ]
  },
  {
   "cell_type": "markdown",
   "metadata": {},
   "source": [
    "## Extracting Playlist Data\n",
    "\n",
    "The 1 000 000 spotify albums are stored in `/data/raw/playlists/` folder, downloaded from [this source](https://www.aicrowd.com/challenges/spotify-million-playlist-dataset-challenge/dataset_files). The albums are stored in 1000 `.json` files with 1000 playlists each."
   ]
  },
  {
   "cell_type": "markdown",
   "metadata": {},
   "source": [
    "Read all JSON files and merge their playlist information into a single list structure. The Python list is saved into a pickle structure for intermediate representation:\n",
    "\n",
    "Check: `playlist_list[20008]` contains a playlist with name `sleep 2`."
   ]
  },
  {
   "cell_type": "code",
   "execution_count": 70,
   "metadata": {},
   "outputs": [],
   "source": [
    "import json\n",
    "import pickle\n",
    "\n",
    "playlist_list_path = os.path.join(dir_data_processed, \"playlists\" + str(playlist_count) + \".pkl\")\n",
    "\n",
    "playlist_list = []\n",
    "\n",
    "for file_index in range(file_count):\n",
    "    start_playlist_id = file_index * playlists_per_file\n",
    "    end_playlist_id = (file_index + 1) * playlists_per_file - 1\n",
    "    playlist_json_path = os.path.join(\"..\", \"data\", \"raw\", \"playlists\", \"mpd.slice.\" + str(start_playlist_id) + \"-\" + str(end_playlist_id) + \".json\")\n",
    "    \n",
    "    with open(playlist_json_path, 'r') as json_file:\n",
    "        data = json.load(json_file)\n",
    "    \n",
    "    playlist_data = data.get(\"playlists\", [])\n",
    "    playlist_list += playlist_data\n",
    "\n",
    "with open(playlist_list_path, \"wb\") as fout:\n",
    "    pickle.dump(playlist_list, fout, protocol = pickle.HIGHEST_PROTOCOL)\n",
    "\n",
    "print(playlist_list[20008])"
   ]
  }
 ],
 "metadata": {
  "kernelspec": {
   "display_name": "Python 3",
   "language": "python",
   "name": "python3"
  },
  "language_info": {
   "codemirror_mode": {
    "name": "ipython",
    "version": 3
   },
   "file_extension": ".py",
   "mimetype": "text/x-python",
   "name": "python",
   "nbconvert_exporter": "python",
   "pygments_lexer": "ipython3",
   "version": "3.12.1"
  }
 },
 "nbformat": 4,
 "nbformat_minor": 2
}
